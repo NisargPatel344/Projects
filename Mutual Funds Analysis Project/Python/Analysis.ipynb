{
 "cells": [
  {
   "cell_type": "code",
   "execution_count": null,
   "id": "09f27705",
   "metadata": {},
   "outputs": [],
   "source": [
    "# Importing necessary libraries\n",
    "import pandas as pd\n",
    "import matplotlib.pyplot as plt\n",
    "import numpy as np"
   ]
  },
  {
   "cell_type": "markdown",
   "id": "16c45e74",
   "metadata": {},
   "source": [
    "# Quant Small Cap Fund"
   ]
  },
  {
   "cell_type": "code",
   "execution_count": null,
   "id": "9b973fce",
   "metadata": {},
   "outputs": [],
   "source": [
    "# Load Mutual Fund Data\n",
    "Quant_Small_Cap_Fund = pd.read_csv(\"Quant Small Cap Fund.csv\")"
   ]
  },
  {
   "cell_type": "code",
   "execution_count": null,
   "id": "fc196743",
   "metadata": {},
   "outputs": [],
   "source": [
    "# Convert Date column to datetime format\n",
    "Quant_Small_Cap_Fund['Date'] = pd.to_datetime(Quant_Small_Cap_Fund['Date'], format='%d-%m-%Y')"
   ]
  },
  {
   "cell_type": "code",
   "execution_count": null,
   "id": "bf057746",
   "metadata": {},
   "outputs": [],
   "source": [
    "# Remove '%' and convert to float\n",
    "Quant_Small_Cap_Fund['%Change'] = Quant_Small_Cap_Fund['%Change'].str.rstrip('%').astype(float)"
   ]
  },
  {
   "cell_type": "code",
   "execution_count": null,
   "id": "df5818d6",
   "metadata": {},
   "outputs": [],
   "source": [
    "# Display the sample of Mutual Fund\n",
    "Quant_Small_Cap_Fund.head(10)"
   ]
  },
  {
   "cell_type": "code",
   "execution_count": null,
   "id": "7f8889b6",
   "metadata": {},
   "outputs": [],
   "source": [
    "# Calcualte minimum of %Change\n",
    "min_change = np.min(Quant_Small_Cap_Fund['%Change'])\n",
    "print(\"Minimum %Change:\", min_change)"
   ]
  },
  {
   "cell_type": "code",
   "execution_count": null,
   "id": "c254a004",
   "metadata": {},
   "outputs": [],
   "source": [
    "# Calcualte maximum of %Change\n",
    "max_change = np.max(Quant_Small_Cap_Fund['%Change'])\n",
    "print(\"Maximum %Change:\", max_change)"
   ]
  },
  {
   "cell_type": "code",
   "execution_count": null,
   "id": "f1fbcc67",
   "metadata": {},
   "outputs": [],
   "source": [
    "# Calculate arithmetic mean of %Change\n",
    "arithmetic_mean = np.mean(Quant_Small_Cap_Fund['%Change'])\n",
    "print(\"Arithmetic Mean of %Change:\", arithmetic_mean)"
   ]
  },
  {
   "cell_type": "code",
   "execution_count": null,
   "id": "b71dca27",
   "metadata": {},
   "outputs": [],
   "source": [
    "# Calculate geometric mean of %Change\n",
    "geometric_mean = np.exp(np.mean(np.log(1 + Quant_Small_Cap_Fund['%Change'] / 100))) - 1\n",
    "print(\"Geometric Mean of %Change:\", geometric_mean)"
   ]
  },
  {
   "cell_type": "code",
   "execution_count": null,
   "id": "ef9c73f4",
   "metadata": {},
   "outputs": [],
   "source": [
    "# Calculate standard deviation of %Change\n",
    "std_deviation_change = np.std(Quant_Small_Cap_Fund['%Change'])\n",
    "print(\"Standard Deviation of %Change:\", std_deviation_change)"
   ]
  },
  {
   "cell_type": "code",
   "execution_count": null,
   "id": "a350db7f",
   "metadata": {},
   "outputs": [],
   "source": [
    "# Load Mutual Fund Holdings Data\n",
    "Quant_Small_Cap_Fund_Holdings = pd.read_csv(\"Quant Small Cap Fund Top 10 Equity Holdings.csv\")"
   ]
  },
  {
   "cell_type": "code",
   "execution_count": null,
   "id": "3bdf6510",
   "metadata": {},
   "outputs": [],
   "source": [
    "# Remove '%' and convert to float\n",
    "Quant_Small_Cap_Fund_Holdings['Weightage'] = Quant_Small_Cap_Fund_Holdings['Weightage'].str.rstrip('%').astype(float)"
   ]
  },
  {
   "cell_type": "code",
   "execution_count": null,
   "id": "72c71da3",
   "metadata": {},
   "outputs": [],
   "source": [
    "# Display the sample of Mutual Fund Holdings\n",
    "Quant_Small_Cap_Fund_Holdings.head(10)"
   ]
  },
  {
   "cell_type": "code",
   "execution_count": null,
   "id": "3eb3b02d",
   "metadata": {},
   "outputs": [],
   "source": [
    "# Plot 1: Adj Close Over Time\n",
    "plt.figure(figsize=(10, 6))\n",
    "plt.plot(Quant_Small_Cap_Fund['Date'], Quant_Small_Cap_Fund['Adj Close'], label='Adj Close')\n",
    "plt.xlabel('Date')\n",
    "plt.ylabel('Price')\n",
    "plt.title('Adj Close')\n",
    "plt.legend()\n",
    "plt.grid()\n",
    "plt.show()"
   ]
  },
  {
   "cell_type": "code",
   "execution_count": null,
   "id": "e369e129",
   "metadata": {
    "scrolled": false
   },
   "outputs": [],
   "source": [
    "# Plot 2: %Change Over Time\n",
    "plt.figure(figsize=(10, 6))\n",
    "plt.plot(Quant_Small_Cap_Fund['Date'], Quant_Small_Cap_Fund['%Change'], label='%Change')\n",
    "plt.xlabel('Date')\n",
    "plt.ylabel('%Change')  # It seems 'Price' is a misleading label here, consider changing to something like 'Percentage Change'\n",
    "plt.title('%Change Over Time')\n",
    "plt.legend()\n",
    "plt.grid()\n",
    "plt.show()"
   ]
  },
  {
   "cell_type": "code",
   "execution_count": null,
   "id": "bf63fb35",
   "metadata": {},
   "outputs": [],
   "source": [
    "# Plot 3: Returns on 10000 Over Time\n",
    "plt.figure(figsize=(10, 6))\n",
    "plt.plot(Quant_Small_Cap_Fund['Date'], Quant_Small_Cap_Fund['Returns on 10000'], label='Returns on 10000')\n",
    "plt.xlabel('Date')\n",
    "plt.ylabel('Price')\n",
    "plt.title('Returns on 10000')\n",
    "plt.legend()\n",
    "plt.grid()\n",
    "plt.show()"
   ]
  },
  {
   "cell_type": "code",
   "execution_count": null,
   "id": "aea44fa3",
   "metadata": {},
   "outputs": [],
   "source": [
    "# Plot 4: Top 10 Stocks Holdings\n",
    "plt.figure(figsize=(10, 6))\n",
    "plt.bar(Quant_Small_Cap_Fund_Holdings['Stock'], Quant_Small_Cap_Fund_Holdings['Weightage'], color='skyblue')\n",
    "plt.xticks(rotation=45, ha='right')\n",
    "plt.xlabel('Stock')\n",
    "plt.ylabel('Weightage (%)')\n",
    "plt.title('Stock Holdings')\n",
    "plt.tight_layout()"
   ]
  },
  {
   "cell_type": "markdown",
   "id": "3b40de57",
   "metadata": {},
   "source": [
    "# Quant Mid Cap Fund"
   ]
  },
  {
   "cell_type": "code",
   "execution_count": null,
   "id": "0a8440bd",
   "metadata": {},
   "outputs": [],
   "source": [
    "# Load Mutual Fund Data\n",
    "Quant_Mid_Cap_Fund = pd.read_csv(\"Quant Mid Cap Fund.csv\")"
   ]
  },
  {
   "cell_type": "code",
   "execution_count": null,
   "id": "68199388",
   "metadata": {},
   "outputs": [],
   "source": [
    "# Convert Date column to datetime format\n",
    "Quant_Mid_Cap_Fund['Date'] = pd.to_datetime(Quant_Mid_Cap_Fund['Date'], format='%d-%m-%Y')"
   ]
  },
  {
   "cell_type": "code",
   "execution_count": null,
   "id": "0d825498",
   "metadata": {},
   "outputs": [],
   "source": [
    "# Remove '%' and convert to float\n",
    "Quant_Mid_Cap_Fund['%Change'] = Quant_Mid_Cap_Fund['%Change'].str.rstrip('%').astype(float)"
   ]
  },
  {
   "cell_type": "code",
   "execution_count": null,
   "id": "2d027215",
   "metadata": {},
   "outputs": [],
   "source": [
    "# Display the sample of Mutual Fund\n",
    "Quant_Mid_Cap_Fund.head(10)"
   ]
  },
  {
   "cell_type": "code",
   "execution_count": null,
   "id": "ac1025ab",
   "metadata": {},
   "outputs": [],
   "source": [
    "# Calcualte minimum of %Change\n",
    "min_change = np.min(Quant_Mid_Cap_Fund['%Change'])\n",
    "print(\"Minimum %Change:\", min_change)"
   ]
  },
  {
   "cell_type": "code",
   "execution_count": null,
   "id": "d273e1aa",
   "metadata": {},
   "outputs": [],
   "source": [
    "# Calcualte maximum of %Change\n",
    "max_change = np.max(Quant_Mid_Cap_Fund['%Change'])\n",
    "print(\"Maximum %Change:\", max_change)"
   ]
  },
  {
   "cell_type": "code",
   "execution_count": null,
   "id": "19ed4c7f",
   "metadata": {},
   "outputs": [],
   "source": [
    "# Calculate arithmetic mean of %Change\n",
    "arithmetic_mean = np.mean(Quant_Mid_Cap_Fund['%Change'])\n",
    "print(\"Arithmetic Mean of %Change:\", arithmetic_mean)"
   ]
  },
  {
   "cell_type": "code",
   "execution_count": null,
   "id": "31140ca6",
   "metadata": {},
   "outputs": [],
   "source": [
    "# Calculate geometric mean of %Change\n",
    "geometric_mean = np.exp(np.mean(np.log(1 + Quant_Mid_Cap_Fund['%Change'] / 100))) - 1\n",
    "print(\"Geometric Mean of %Change:\", geometric_mean)"
   ]
  },
  {
   "cell_type": "code",
   "execution_count": null,
   "id": "28cbae71",
   "metadata": {},
   "outputs": [],
   "source": [
    "# Calculate standard deviation of %Change\n",
    "std_deviation_change = np.std(Quant_Mid_Cap_Fund['%Change'])\n",
    "print(\"Standard Deviation of %Change:\", std_deviation_change)"
   ]
  },
  {
   "cell_type": "code",
   "execution_count": null,
   "id": "d6783814",
   "metadata": {},
   "outputs": [],
   "source": [
    "# Load Mutual Fund Holdings Data\n",
    "Quant_Mid_Cap_Fund_Holdings = pd.read_csv(\"Quant Mid Cap Fund Top 10 Equity Holdings.csv\")"
   ]
  },
  {
   "cell_type": "code",
   "execution_count": null,
   "id": "c9b01a3a",
   "metadata": {},
   "outputs": [],
   "source": [
    "# Remove '%' and convert to float\n",
    "Quant_Mid_Cap_Fund_Holdings['Weightage'] = Quant_Mid_Cap_Fund_Holdings['Weightage'].str.rstrip('%').astype(float)"
   ]
  },
  {
   "cell_type": "code",
   "execution_count": null,
   "id": "9480000c",
   "metadata": {},
   "outputs": [],
   "source": [
    "# Display the sample of Mutual Fund Holdings\n",
    "Quant_Mid_Cap_Fund_Holdings.head(10)"
   ]
  },
  {
   "cell_type": "code",
   "execution_count": null,
   "id": "0f473024",
   "metadata": {},
   "outputs": [],
   "source": [
    "# Plot 1: Adj Close Over Time\n",
    "plt.figure(figsize=(10, 6))\n",
    "plt.plot(Quant_Mid_Cap_Fund['Date'], Quant_Mid_Cap_Fund['Adj Close'], label='Adj Close')\n",
    "plt.xlabel('Date')\n",
    "plt.ylabel('Price')\n",
    "plt.title('Adj Close')\n",
    "plt.legend()\n",
    "plt.grid()\n",
    "plt.show()"
   ]
  },
  {
   "cell_type": "code",
   "execution_count": null,
   "id": "099f520b",
   "metadata": {
    "scrolled": false
   },
   "outputs": [],
   "source": [
    "# Plot 2: %Change Over Time\n",
    "plt.figure(figsize=(10, 6))\n",
    "plt.plot(Quant_Mid_Cap_Fund['Date'], Quant_Mid_Cap_Fund['%Change'], label='%Change')\n",
    "plt.xlabel('Date')\n",
    "plt.ylabel('%Change')  # It seems 'Price' is a misleading label here, consider changing to something like 'Percentage Change'\n",
    "plt.title('%Change Over Time')\n",
    "plt.legend()\n",
    "plt.grid()\n",
    "plt.show()"
   ]
  },
  {
   "cell_type": "code",
   "execution_count": null,
   "id": "ccac21f8",
   "metadata": {},
   "outputs": [],
   "source": [
    "# Plot 3: Returns on 10000 Over Time\n",
    "plt.figure(figsize=(10, 6))\n",
    "plt.plot(Quant_Mid_Cap_Fund['Date'], Quant_Mid_Cap_Fund['Returns on 10000'], label='Returns on 10000')\n",
    "plt.xlabel('Date')\n",
    "plt.ylabel('Price')\n",
    "plt.title('Returns on 10000')\n",
    "plt.legend()\n",
    "plt.grid()\n",
    "plt.show()"
   ]
  },
  {
   "cell_type": "code",
   "execution_count": null,
   "id": "ac60f67f",
   "metadata": {},
   "outputs": [],
   "source": [
    "# Plot 4: Top 10 Stocks Holdings\n",
    "plt.figure(figsize=(10, 6))\n",
    "plt.bar(Quant_Mid_Cap_Fund_Holdings['Stock'], Quant_Mid_Cap_Fund_Holdings['Weightage'], color='skyblue')\n",
    "plt.xticks(rotation=45, ha='right')\n",
    "plt.xlabel('Stock')\n",
    "plt.ylabel('Weightage (%)')\n",
    "plt.title('Stock Holdings')\n",
    "plt.tight_layout()"
   ]
  },
  {
   "cell_type": "markdown",
   "id": "eff15de9",
   "metadata": {},
   "source": [
    "# UTI Nifty 50 Index Fund"
   ]
  },
  {
   "cell_type": "code",
   "execution_count": null,
   "id": "cf6c4c9a",
   "metadata": {},
   "outputs": [],
   "source": [
    "# Load Mutual Fund Data\n",
    "UTI_Nifty_50_Index_Fund = pd.read_csv(\"UTI Nifty 50 Index Fund.csv\")"
   ]
  },
  {
   "cell_type": "code",
   "execution_count": null,
   "id": "86922fd8",
   "metadata": {},
   "outputs": [],
   "source": [
    "# Convert Date column to datetime format\n",
    "UTI_Nifty_50_Index_Fund['Date'] = pd.to_datetime(UTI_Nifty_50_Index_Fund['Date'], format='%d-%m-%Y')"
   ]
  },
  {
   "cell_type": "code",
   "execution_count": null,
   "id": "93322ecc",
   "metadata": {},
   "outputs": [],
   "source": [
    "# Remove '%' and convert to float\n",
    "UTI_Nifty_50_Index_Fund['%Change'] = UTI_Nifty_50_Index_Fund['%Change'].str.rstrip('%').astype(float)"
   ]
  },
  {
   "cell_type": "code",
   "execution_count": null,
   "id": "35caacea",
   "metadata": {},
   "outputs": [],
   "source": [
    "# Display the sample of Mutual Fund\n",
    "UTI_Nifty_50_Index_Fund.head(10)"
   ]
  },
  {
   "cell_type": "code",
   "execution_count": null,
   "id": "2d86216f",
   "metadata": {},
   "outputs": [],
   "source": [
    "# Calcualte minimum of %Change\n",
    "min_change = np.min(UTI_Nifty_50_Index_Fund['%Change'])\n",
    "print(\"Minimum %Change:\", min_change)"
   ]
  },
  {
   "cell_type": "code",
   "execution_count": null,
   "id": "739f85dc",
   "metadata": {},
   "outputs": [],
   "source": [
    "# Calcualte maximum of %Change\n",
    "max_change = np.max(UTI_Nifty_50_Index_Fund['%Change'])\n",
    "print(\"Maximum %Change:\", max_change)"
   ]
  },
  {
   "cell_type": "code",
   "execution_count": null,
   "id": "6bc08f83",
   "metadata": {},
   "outputs": [],
   "source": [
    "# Calculate arithmetic mean of %Change\n",
    "arithmetic_mean = np.mean(UTI_Nifty_50_Index_Fund['%Change'])\n",
    "print(\"Arithmetic Mean of %Change:\", arithmetic_mean)"
   ]
  },
  {
   "cell_type": "code",
   "execution_count": null,
   "id": "40884fb1",
   "metadata": {},
   "outputs": [],
   "source": [
    "# Calculate geometric mean of %Change\n",
    "geometric_mean = np.exp(np.mean(np.log(1 + UTI_Nifty_50_Index_Fund['%Change'] / 100))) - 1\n",
    "print(\"Geometric Mean of %Change:\", geometric_mean)"
   ]
  },
  {
   "cell_type": "code",
   "execution_count": null,
   "id": "5d5b1b0f",
   "metadata": {},
   "outputs": [],
   "source": [
    "# Calculate standard deviation of %Change\n",
    "std_deviation_change = np.std(UTI_Nifty_50_Index_Fund['%Change'])\n",
    "print(\"Standard Deviation of %Change:\", std_deviation_change)"
   ]
  },
  {
   "cell_type": "code",
   "execution_count": null,
   "id": "5a292ae2",
   "metadata": {},
   "outputs": [],
   "source": [
    "# Load Mutual Fund Holdings Data\n",
    "UTI_Nifty_50_Index_Fund_Holdings = pd.read_csv(\"UTI Nifty 50 Index Fund Top 10 Equity Holdings.csv\")"
   ]
  },
  {
   "cell_type": "code",
   "execution_count": null,
   "id": "802cf297",
   "metadata": {},
   "outputs": [],
   "source": [
    "# Remove '%' and convert to float\n",
    "UTI_Nifty_50_Index_Fund_Holdings['Weightage'] = UTI_Nifty_50_Index_Fund_Holdings['Weightage'].str.rstrip('%').astype(float)"
   ]
  },
  {
   "cell_type": "code",
   "execution_count": null,
   "id": "988833f6",
   "metadata": {},
   "outputs": [],
   "source": [
    "# Display the sample of Mutual Fund Holdings\n",
    "UTI_Nifty_50_Index_Fund_Holdings.head(10)"
   ]
  },
  {
   "cell_type": "code",
   "execution_count": null,
   "id": "c0561dd8",
   "metadata": {},
   "outputs": [],
   "source": [
    "# Plot 1: Adj Close Over Time\n",
    "plt.figure(figsize=(10, 6))\n",
    "plt.plot(UTI_Nifty_50_Index_Fund['Date'], UTI_Nifty_50_Index_Fund['Adj Close'], label='Adj Close')\n",
    "plt.xlabel('Date')\n",
    "plt.ylabel('Price')\n",
    "plt.title('Adj Close')\n",
    "plt.legend()\n",
    "plt.grid()\n",
    "plt.show()"
   ]
  },
  {
   "cell_type": "code",
   "execution_count": null,
   "id": "8e9587fd",
   "metadata": {
    "scrolled": false
   },
   "outputs": [],
   "source": [
    "# Plot 2: %Change Over Time\n",
    "plt.figure(figsize=(10, 6))\n",
    "plt.plot(UTI_Nifty_50_Index_Fund['Date'], UTI_Nifty_50_Index_Fund['%Change'], label='%Change')\n",
    "plt.xlabel('Date')\n",
    "plt.ylabel('%Change')  # It seems 'Price' is a misleading label here, consider changing to something like 'Percentage Change'\n",
    "plt.title('%Change Over Time')\n",
    "plt.legend()\n",
    "plt.grid()\n",
    "plt.show()"
   ]
  },
  {
   "cell_type": "code",
   "execution_count": null,
   "id": "030f8e36",
   "metadata": {},
   "outputs": [],
   "source": [
    "# Plot 3: Returns on 10000 Over Time\n",
    "plt.figure(figsize=(10, 6))\n",
    "plt.plot(UTI_Nifty_50_Index_Fund['Date'], UTI_Nifty_50_Index_Fund['Returns on 10000'], label='Returns on 10000')\n",
    "plt.xlabel('Date')\n",
    "plt.ylabel('Price')\n",
    "plt.title('Returns on 10000')\n",
    "plt.legend()\n",
    "plt.grid()\n",
    "plt.show()"
   ]
  },
  {
   "cell_type": "code",
   "execution_count": null,
   "id": "ae865c8e",
   "metadata": {},
   "outputs": [],
   "source": [
    "# Plot 4: Top 10 Stocks Holdings\n",
    "plt.figure(figsize=(10, 6))\n",
    "plt.bar(UTI_Nifty_50_Index_Fund_Holdings['Stock'], UTI_Nifty_50_Index_Fund_Holdings['Weightage'], color='skyblue')\n",
    "plt.xticks(rotation=45, ha='right')\n",
    "plt.xlabel('Stock')\n",
    "plt.ylabel('Weightage (%)')\n",
    "plt.title('Stock Holdings')\n",
    "plt.tight_layout()"
   ]
  },
  {
   "cell_type": "markdown",
   "id": "ee505734",
   "metadata": {},
   "source": [
    "# Nippon India Banking & Financial Services Fund"
   ]
  },
  {
   "cell_type": "code",
   "execution_count": null,
   "id": "70afaaef",
   "metadata": {},
   "outputs": [],
   "source": [
    "# Load Mutual Fund Data\n",
    "Nippon_India_Banking_and_Financial_Services_Fund = pd.read_csv(\"Nippon India Banking & Financial Services Fund.csv\")"
   ]
  },
  {
   "cell_type": "code",
   "execution_count": null,
   "id": "02cdac9d",
   "metadata": {},
   "outputs": [],
   "source": [
    "# Convert Date column to datetime format\n",
    "Nippon_India_Banking_and_Financial_Services_Fund['Date'] = pd.to_datetime(Nippon_India_Banking_and_Financial_Services_Fund['Date'], format='%d-%m-%Y')"
   ]
  },
  {
   "cell_type": "code",
   "execution_count": null,
   "id": "5e8b6f09",
   "metadata": {},
   "outputs": [],
   "source": [
    "# Remove '%' and convert to float\n",
    "Nippon_India_Banking_and_Financial_Services_Fund['%Change'] = Nippon_India_Banking_and_Financial_Services_Fund['%Change'].str.rstrip('%').astype(float)"
   ]
  },
  {
   "cell_type": "code",
   "execution_count": null,
   "id": "a88d2f2b",
   "metadata": {},
   "outputs": [],
   "source": [
    "# Display the sample of Mutual Fund\n",
    "Nippon_India_Banking_and_Financial_Services_Fund.head(10)"
   ]
  },
  {
   "cell_type": "code",
   "execution_count": null,
   "id": "d979a260",
   "metadata": {},
   "outputs": [],
   "source": [
    "# Calcualte minimum of %Change\n",
    "min_change = np.min(Nippon_India_Banking_and_Financial_Services_Fund['%Change'])\n",
    "print(\"Minimum %Change:\", min_change)"
   ]
  },
  {
   "cell_type": "code",
   "execution_count": null,
   "id": "b30adc01",
   "metadata": {},
   "outputs": [],
   "source": [
    "# Calcualte maximum of %Change\n",
    "max_change = np.max(Nippon_India_Banking_and_Financial_Services_Fund['%Change'])\n",
    "print(\"Maximum %Change:\", max_change)"
   ]
  },
  {
   "cell_type": "code",
   "execution_count": null,
   "id": "ac9282dd",
   "metadata": {},
   "outputs": [],
   "source": [
    "# Calculate arithmetic mean of %Change\n",
    "arithmetic_mean = np.mean(Nippon_India_Banking_and_Financial_Services_Fund['%Change'])\n",
    "print(\"Arithmetic Mean of %Change:\", arithmetic_mean)"
   ]
  },
  {
   "cell_type": "code",
   "execution_count": null,
   "id": "3c1a4fde",
   "metadata": {},
   "outputs": [],
   "source": [
    "# Calculate geometric mean of %Change\n",
    "geometric_mean = np.exp(np.mean(np.log(1 + Nippon_India_Banking_and_Financial_Services_Fund['%Change'] / 100))) - 1\n",
    "print(\"Geometric Mean of %Change:\", geometric_mean)"
   ]
  },
  {
   "cell_type": "code",
   "execution_count": null,
   "id": "df9bec79",
   "metadata": {},
   "outputs": [],
   "source": [
    "# Calculate standard deviation of %Change\n",
    "std_deviation_change = np.std(Nippon_India_Banking_and_Financial_Services_Fund['%Change'])\n",
    "print(\"Standard Deviation of %Change:\", std_deviation_change)"
   ]
  },
  {
   "cell_type": "code",
   "execution_count": null,
   "id": "c87a699f",
   "metadata": {},
   "outputs": [],
   "source": [
    "# Load Mutual Fund Holdings Data\n",
    "Nippon_India_Banking_and_Financial_Services_Fund_Holdings = pd.read_csv(\"Nippon India Banking & Financial Services Fund Top 10 Equity Holdings.csv\")"
   ]
  },
  {
   "cell_type": "code",
   "execution_count": null,
   "id": "4c15158f",
   "metadata": {},
   "outputs": [],
   "source": [
    "# Remove '%' and convert to float\n",
    "Nippon_India_Banking_and_Financial_Services_Fund_Holdings['Weightage'] = Nippon_India_Banking_and_Financial_Services_Fund_Holdings['Weightage'].str.rstrip('%').astype(float)"
   ]
  },
  {
   "cell_type": "code",
   "execution_count": null,
   "id": "8475dae6",
   "metadata": {},
   "outputs": [],
   "source": [
    "# Display the sample of Mutual Fund Holdings\n",
    "Nippon_India_Banking_and_Financial_Services_Fund_Holdings.head(10)"
   ]
  },
  {
   "cell_type": "code",
   "execution_count": null,
   "id": "07caa880",
   "metadata": {},
   "outputs": [],
   "source": [
    "# Plot 1: Adj Close Over Time\n",
    "plt.figure(figsize=(10, 6))\n",
    "plt.plot(Nippon_India_Banking_and_Financial_Services_Fund['Date'], Nippon_India_Banking_and_Financial_Services_Fund['Adj Close'], label='Adj Close')\n",
    "plt.xlabel('Date')\n",
    "plt.ylabel('Price')\n",
    "plt.title('Adj Close')\n",
    "plt.legend()\n",
    "plt.grid()\n",
    "plt.show()"
   ]
  },
  {
   "cell_type": "code",
   "execution_count": null,
   "id": "e4c38536",
   "metadata": {
    "scrolled": false
   },
   "outputs": [],
   "source": [
    "# Plot 2: %Change Over Time\n",
    "plt.figure(figsize=(10, 6))\n",
    "plt.plot(Nippon_India_Banking_and_Financial_Services_Fund['Date'], Nippon_India_Banking_and_Financial_Services_Fund['%Change'], label='%Change')\n",
    "plt.xlabel('Date')\n",
    "plt.ylabel('%Change')  # It seems 'Price' is a misleading label here, consider changing to something like 'Percentage Change'\n",
    "plt.title('%Change Over Time')\n",
    "plt.legend()\n",
    "plt.grid()\n",
    "plt.show()"
   ]
  },
  {
   "cell_type": "code",
   "execution_count": null,
   "id": "22ef8eb6",
   "metadata": {},
   "outputs": [],
   "source": [
    "# Plot 3: Returns on 10000 Over Time\n",
    "plt.figure(figsize=(10, 6))\n",
    "plt.plot(Nippon_India_Banking_and_Financial_Services_Fund['Date'], Nippon_India_Banking_and_Financial_Services_Fund['Returns on 10000'], label='Returns on 10000')\n",
    "plt.xlabel('Date')\n",
    "plt.ylabel('Price')\n",
    "plt.title('Returns on 10000')\n",
    "plt.legend()\n",
    "plt.grid()\n",
    "plt.show()"
   ]
  },
  {
   "cell_type": "code",
   "execution_count": null,
   "id": "d59dbeac",
   "metadata": {},
   "outputs": [],
   "source": [
    "# Plot 4: Top 10 Stocks Holdings\n",
    "plt.figure(figsize=(10, 6))\n",
    "plt.bar(Nippon_India_Banking_and_Financial_Services_Fund_Holdings['Stock'], Nippon_India_Banking_and_Financial_Services_Fund_Holdings['Weightage'], color='skyblue')\n",
    "plt.xticks(rotation=45, ha='right')\n",
    "plt.xlabel('Stock')\n",
    "plt.ylabel('Weightage (%)')\n",
    "plt.title('Stock Holdings')\n",
    "plt.tight_layout()"
   ]
  },
  {
   "cell_type": "markdown",
   "id": "9710fb25",
   "metadata": {},
   "source": [
    "# SBI Consumption Opp Fund"
   ]
  },
  {
   "cell_type": "code",
   "execution_count": null,
   "id": "29a51a21",
   "metadata": {},
   "outputs": [],
   "source": [
    "# Load Mutual Fund Data\n",
    "SBI_Consumption_Opp_Fund = pd.read_csv(\"SBI Consumption Opp Fund.csv\")"
   ]
  },
  {
   "cell_type": "code",
   "execution_count": null,
   "id": "9a8d673d",
   "metadata": {},
   "outputs": [],
   "source": [
    "# Convert Date column to datetime format\n",
    "SBI_Consumption_Opp_Fund['Date'] = pd.to_datetime(SBI_Consumption_Opp_Fund['Date'], format='%d-%m-%Y')"
   ]
  },
  {
   "cell_type": "code",
   "execution_count": null,
   "id": "3dcf68cb",
   "metadata": {},
   "outputs": [],
   "source": [
    "# Remove '%' and convert to float\n",
    "SBI_Consumption_Opp_Fund['%Change'] = SBI_Consumption_Opp_Fund['%Change'].str.rstrip('%').astype(float)"
   ]
  },
  {
   "cell_type": "code",
   "execution_count": null,
   "id": "5a972d95",
   "metadata": {},
   "outputs": [],
   "source": [
    "# Display the sample of Mutual Fund\n",
    "SBI_Consumption_Opp_Fund.head(10)"
   ]
  },
  {
   "cell_type": "code",
   "execution_count": null,
   "id": "89247197",
   "metadata": {},
   "outputs": [],
   "source": [
    "# Calcualte minimum of %Change\n",
    "min_change = np.min(SBI_Consumption_Opp_Fund['%Change'])\n",
    "print(\"Minimum %Change:\", min_change)"
   ]
  },
  {
   "cell_type": "code",
   "execution_count": null,
   "id": "7ae925ed",
   "metadata": {},
   "outputs": [],
   "source": [
    "# Calcualte maximum of %Change\n",
    "max_change = np.max(SBI_Consumption_Opp_Fund['%Change'])\n",
    "print(\"Maximum %Change:\", max_change)"
   ]
  },
  {
   "cell_type": "code",
   "execution_count": null,
   "id": "b0bdd17d",
   "metadata": {},
   "outputs": [],
   "source": [
    "# Calculate arithmetic mean of %Change\n",
    "arithmetic_mean = np.mean(SBI_Consumption_Opp_Fund['%Change'])\n",
    "print(\"Arithmetic Mean of %Change:\", arithmetic_mean)"
   ]
  },
  {
   "cell_type": "code",
   "execution_count": null,
   "id": "005ab487",
   "metadata": {},
   "outputs": [],
   "source": [
    "# Calculate geometric mean of %Change\n",
    "geometric_mean = np.exp(np.mean(np.log(1 + SBI_Consumption_Opp_Fund['%Change'] / 100))) - 1\n",
    "print(\"Geometric Mean of %Change:\", geometric_mean)"
   ]
  },
  {
   "cell_type": "code",
   "execution_count": null,
   "id": "b862bcad",
   "metadata": {},
   "outputs": [],
   "source": [
    "# Calculate standard deviation of %Change\n",
    "std_deviation_change = np.std(SBI_Consumption_Opp_Fund['%Change'])\n",
    "print(\"Standard Deviation of %Change:\", std_deviation_change)"
   ]
  },
  {
   "cell_type": "code",
   "execution_count": null,
   "id": "68238095",
   "metadata": {},
   "outputs": [],
   "source": [
    "# Load Mutual Fund Holdings Data\n",
    "SBI_Consumption_Opp_Fund_Holdings = pd.read_csv(\"SBI Consumption Opp Fund Top 10 Equity Holdings.csv\")"
   ]
  },
  {
   "cell_type": "code",
   "execution_count": null,
   "id": "4183de62",
   "metadata": {},
   "outputs": [],
   "source": [
    "# Remove '%' and convert to float\n",
    "SBI_Consumption_Opp_Fund_Holdings['Weightage'] = SBI_Consumption_Opp_Fund_Holdings['Weightage'].str.rstrip('%').astype(float)"
   ]
  },
  {
   "cell_type": "code",
   "execution_count": null,
   "id": "40ab9b50",
   "metadata": {},
   "outputs": [],
   "source": [
    "# Display the sample of Mutual Fund Holdings\n",
    "SBI_Consumption_Opp_Fund_Holdings.head(10)"
   ]
  },
  {
   "cell_type": "code",
   "execution_count": null,
   "id": "230d8a7d",
   "metadata": {},
   "outputs": [],
   "source": [
    "# Plot 1: Adj Close Over Time\n",
    "plt.figure(figsize=(10, 6))\n",
    "plt.plot(SBI_Consumption_Opp_Fund['Date'], SBI_Consumption_Opp_Fund['Adj Close'], label='Adj Close')\n",
    "plt.xlabel('Date')\n",
    "plt.ylabel('Price')\n",
    "plt.title('Adj Close')\n",
    "plt.legend()\n",
    "plt.grid()\n",
    "plt.show()"
   ]
  },
  {
   "cell_type": "code",
   "execution_count": null,
   "id": "b5d5aa43",
   "metadata": {
    "scrolled": false
   },
   "outputs": [],
   "source": [
    "# Plot 2: %Change Over Time\n",
    "plt.figure(figsize=(10, 6))\n",
    "plt.plot(SBI_Consumption_Opp_Fund['Date'], SBI_Consumption_Opp_Fund['%Change'], label='%Change')\n",
    "plt.xlabel('Date')\n",
    "plt.ylabel('%Change')  # It seems 'Price' is a misleading label here, consider changing to something like 'Percentage Change'\n",
    "plt.title('%Change Over Time')\n",
    "plt.legend()\n",
    "plt.grid()\n",
    "plt.show()"
   ]
  },
  {
   "cell_type": "code",
   "execution_count": null,
   "id": "3567ae3d",
   "metadata": {},
   "outputs": [],
   "source": [
    "# Plot 3: Returns on 10000 Over Time\n",
    "plt.figure(figsize=(10, 6))\n",
    "plt.plot(SBI_Consumption_Opp_Fund['Date'], SBI_Consumption_Opp_Fund['Returns on 10000'], label='Returns on 10000')\n",
    "plt.xlabel('Date')\n",
    "plt.ylabel('Price')\n",
    "plt.title('Returns on 10000')\n",
    "plt.legend()\n",
    "plt.grid()\n",
    "plt.show()"
   ]
  },
  {
   "cell_type": "code",
   "execution_count": null,
   "id": "b9b09ed5",
   "metadata": {
    "scrolled": true
   },
   "outputs": [],
   "source": [
    "# Plot 4: Top 10 Stocks Holdings\n",
    "plt.figure(figsize=(10, 6))\n",
    "plt.bar(SBI_Consumption_Opp_Fund_Holdings['Stock'], SBI_Consumption_Opp_Fund_Holdings['Weightage'], color='skyblue')\n",
    "plt.xticks(rotation=45, ha='right')\n",
    "plt.xlabel('Stock')\n",
    "plt.ylabel('Weightage (%)')\n",
    "plt.title('Stock Holdings')\n",
    "plt.tight_layout()"
   ]
  }
 ],
 "metadata": {
  "kernelspec": {
   "display_name": "Python 3 (ipykernel)",
   "language": "python",
   "name": "python3"
  },
  "language_info": {
   "codemirror_mode": {
    "name": "ipython",
    "version": 3
   },
   "file_extension": ".py",
   "mimetype": "text/x-python",
   "name": "python",
   "nbconvert_exporter": "python",
   "pygments_lexer": "ipython3",
   "version": "3.10.9"
  }
 },
 "nbformat": 4,
 "nbformat_minor": 5
}
